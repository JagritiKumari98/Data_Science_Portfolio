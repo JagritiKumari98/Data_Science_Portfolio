{
 "cells": [
  {
   "cell_type": "code",
   "execution_count": 4,
   "id": "9af2d128-912e-44c1-bce3-db5007eed9a5",
   "metadata": {},
   "outputs": [],
   "source": [
    "import pandas as pd\n",
    "import numpy as np\n",
    "import matplotlib.pyplot as plt\n",
    "import seaborn as sns\n",
    "from sklearn.model_selection import train_test_split\n",
    "from sklearn.ensemble import RandomForestClassifier\n",
    "from sklearn.metrics import classification_report, confusion_matrix\n",
    "from datetime import datetime"
   ]
  },
  {
   "cell_type": "code",
   "execution_count": 6,
   "id": "33eccc2b-9a56-48b0-bf69-55775741dd9f",
   "metadata": {},
   "outputs": [],
   "source": [
    "data = pd.DataFrame({\n",
    "    'UserID': [1, 2, 3, 1, 2, 3],\n",
    "    'SessionID': ['S1', 'S2', 'S3', 'S4', 'S5', 'S6'],\n",
    "    'SessionStart': ['2024-10-01 10:00', '2024-10-01 11:00', '2024-10-01 12:00',\n",
    "                     '2024-10-02 09:00', '2024-10-02 10:00', '2024-10-02 11:00'],\n",
    "    'SessionEnd': ['2024-10-01 10:30', '2024-10-01 11:15', '2024-10-01 12:45',\n",
    "                   '2024-10-02 09:20', '2024-10-02 10:35', '2024-10-02 11:25'],\n",
    "    'ActivityType': ['PageView', 'PageView', 'Login', 'ButtonClick', 'PageView', 'ButtonClick'],\n",
    "    'DeviceType': ['Mobile', 'Tablet', 'Mobile', 'Mobile', 'Tablet', 'Mobile'],\n",
    "    'Location': ['USA', 'UK', 'Canada', 'USA', 'UK', 'Canada'],\n",
    "    'SignupDate': ['2024-09-01', '2024-09-10', '2024-08-15', '2024-09-01', '2024-09-10', '2024-08-15']\n",
    "})"
   ]
  },
  {
   "cell_type": "markdown",
   "id": "03f49e9d-b815-4348-8ecc-5c607a435ae2",
   "metadata": {},
   "source": [
    "# Convert date columns to datetime"
   ]
  },
  {
   "cell_type": "code",
   "execution_count": 8,
   "id": "f3db9f4c-542e-4a41-b477-cc26615c9618",
   "metadata": {},
   "outputs": [],
   "source": [
    "data['SessionStart'] = pd.to_datetime(data['SessionStart'])\n",
    "data['SessionEnd'] = pd.to_datetime(data['SessionEnd'])\n",
    "data['SignupDate'] = pd.to_datetime(data['SignupDate'])"
   ]
  },
  {
   "cell_type": "code",
   "execution_count": 11,
   "id": "42d83a41-a8c9-4ad6-a938-f759a5c73aaa",
   "metadata": {},
   "outputs": [],
   "source": [
    "# Calculate session duration in minutes\n",
    "data['SessionDuration'] = ( data['SessionEnd'] - data['SessionStart']).dt.total_seconds() / 60\n",
    "\n",
    "# Calculate Day since signup\n",
    "data['DaysSinceSignup'] = (data['SessionStart'] - data['SignupDate']).dt.days\n",
    "                           \n"
   ]
  },
  {
   "cell_type": "code",
   "execution_count": 12,
   "id": "cdbe4bf1-21ae-4ed6-a1e7-697aa1dbc78a",
   "metadata": {},
   "outputs": [
    {
     "data": {
      "text/html": [
       "<div>\n",
       "<style scoped>\n",
       "    .dataframe tbody tr th:only-of-type {\n",
       "        vertical-align: middle;\n",
       "    }\n",
       "\n",
       "    .dataframe tbody tr th {\n",
       "        vertical-align: top;\n",
       "    }\n",
       "\n",
       "    .dataframe thead th {\n",
       "        text-align: right;\n",
       "    }\n",
       "</style>\n",
       "<table border=\"1\" class=\"dataframe\">\n",
       "  <thead>\n",
       "    <tr style=\"text-align: right;\">\n",
       "      <th></th>\n",
       "      <th>UserID</th>\n",
       "      <th>SessionID</th>\n",
       "      <th>SessionStart</th>\n",
       "      <th>SessionEnd</th>\n",
       "      <th>ActivityType</th>\n",
       "      <th>DeviceType</th>\n",
       "      <th>Location</th>\n",
       "      <th>SignupDate</th>\n",
       "      <th>SessionDuration</th>\n",
       "      <th>DaysSinceSignup</th>\n",
       "    </tr>\n",
       "  </thead>\n",
       "  <tbody>\n",
       "    <tr>\n",
       "      <th>0</th>\n",
       "      <td>1</td>\n",
       "      <td>S1</td>\n",
       "      <td>2024-10-01 10:00:00</td>\n",
       "      <td>2024-10-01 10:30:00</td>\n",
       "      <td>PageView</td>\n",
       "      <td>Mobile</td>\n",
       "      <td>USA</td>\n",
       "      <td>2024-09-01</td>\n",
       "      <td>30.0</td>\n",
       "      <td>30</td>\n",
       "    </tr>\n",
       "    <tr>\n",
       "      <th>1</th>\n",
       "      <td>2</td>\n",
       "      <td>S2</td>\n",
       "      <td>2024-10-01 11:00:00</td>\n",
       "      <td>2024-10-01 11:15:00</td>\n",
       "      <td>PageView</td>\n",
       "      <td>Tablet</td>\n",
       "      <td>UK</td>\n",
       "      <td>2024-09-10</td>\n",
       "      <td>15.0</td>\n",
       "      <td>21</td>\n",
       "    </tr>\n",
       "    <tr>\n",
       "      <th>2</th>\n",
       "      <td>3</td>\n",
       "      <td>S3</td>\n",
       "      <td>2024-10-01 12:00:00</td>\n",
       "      <td>2024-10-01 12:45:00</td>\n",
       "      <td>Login</td>\n",
       "      <td>Mobile</td>\n",
       "      <td>Canada</td>\n",
       "      <td>2024-08-15</td>\n",
       "      <td>45.0</td>\n",
       "      <td>47</td>\n",
       "    </tr>\n",
       "    <tr>\n",
       "      <th>3</th>\n",
       "      <td>1</td>\n",
       "      <td>S4</td>\n",
       "      <td>2024-10-02 09:00:00</td>\n",
       "      <td>2024-10-02 09:20:00</td>\n",
       "      <td>ButtonClick</td>\n",
       "      <td>Mobile</td>\n",
       "      <td>USA</td>\n",
       "      <td>2024-09-01</td>\n",
       "      <td>20.0</td>\n",
       "      <td>31</td>\n",
       "    </tr>\n",
       "    <tr>\n",
       "      <th>4</th>\n",
       "      <td>2</td>\n",
       "      <td>S5</td>\n",
       "      <td>2024-10-02 10:00:00</td>\n",
       "      <td>2024-10-02 10:35:00</td>\n",
       "      <td>PageView</td>\n",
       "      <td>Tablet</td>\n",
       "      <td>UK</td>\n",
       "      <td>2024-09-10</td>\n",
       "      <td>35.0</td>\n",
       "      <td>22</td>\n",
       "    </tr>\n",
       "  </tbody>\n",
       "</table>\n",
       "</div>"
      ],
      "text/plain": [
       "   UserID SessionID        SessionStart          SessionEnd ActivityType  \\\n",
       "0       1        S1 2024-10-01 10:00:00 2024-10-01 10:30:00     PageView   \n",
       "1       2        S2 2024-10-01 11:00:00 2024-10-01 11:15:00     PageView   \n",
       "2       3        S3 2024-10-01 12:00:00 2024-10-01 12:45:00        Login   \n",
       "3       1        S4 2024-10-02 09:00:00 2024-10-02 09:20:00  ButtonClick   \n",
       "4       2        S5 2024-10-02 10:00:00 2024-10-02 10:35:00     PageView   \n",
       "\n",
       "  DeviceType Location SignupDate  SessionDuration  DaysSinceSignup  \n",
       "0     Mobile      USA 2024-09-01             30.0               30  \n",
       "1     Tablet       UK 2024-09-10             15.0               21  \n",
       "2     Mobile   Canada 2024-08-15             45.0               47  \n",
       "3     Mobile      USA 2024-09-01             20.0               31  \n",
       "4     Tablet       UK 2024-09-10             35.0               22  "
      ]
     },
     "execution_count": 12,
     "metadata": {},
     "output_type": "execute_result"
    }
   ],
   "source": [
    "data.head()"
   ]
  },
  {
   "cell_type": "code",
   "execution_count": 19,
   "id": "929f774a-a312-45b3-bb75-b3d74d97563d",
   "metadata": {},
   "outputs": [],
   "source": [
    "# Average session duration per user\n",
    "data['AvgSessionDuration'] = data.groupby('UserID')['SessionDuration'].transform('mean')\n",
    "\n",
    "#Total session per user\n",
    "data['TotalSessions'] = data.groupby('UserID')['SessionID'].transform('count')\n",
    "\n",
    "# Days since last session (sssuming 'SessionStart' is sorted by date)\n",
    "data['LastSession'] = data.groupby('UserID')['SessionStart'].transform('max')\n",
    "data['DaysSinceLastSession'] = (datetime.now() - data['LastSession']).dt.days"
   ]
  },
  {
   "cell_type": "code",
   "execution_count": 20,
   "id": "76435272-ebc1-4c28-a0a4-7a71754209a8",
   "metadata": {},
   "outputs": [],
   "source": [
    "# Create the churn label: if a user hasn't logged in for 30 days, they're considered churned\n",
    "data['Churn'] = (data['DaysSinceLastSession'] > 30).astype(int)\n"
   ]
  },
  {
   "cell_type": "code",
   "execution_count": 21,
   "id": "56a2f7b3-808a-4d5c-8246-60d928377ae3",
   "metadata": {},
   "outputs": [],
   "source": [
    "# Drop duplicate rows (one per user)\n",
    "user_data = data[['UserID', 'AvgSessionDuration', \n",
    "                  'TotalSessions', 'DaysSinceSignup', \n",
    "                  'DaysSinceLastSession', 'Churn']].drop_duplicates()"
   ]
  },
  {
   "cell_type": "code",
   "execution_count": 22,
   "id": "3a2352e7-b357-4517-a3cd-509d0074b8f4",
   "metadata": {},
   "outputs": [
    {
     "data": {
      "text/html": [
       "<div>\n",
       "<style scoped>\n",
       "    .dataframe tbody tr th:only-of-type {\n",
       "        vertical-align: middle;\n",
       "    }\n",
       "\n",
       "    .dataframe tbody tr th {\n",
       "        vertical-align: top;\n",
       "    }\n",
       "\n",
       "    .dataframe thead th {\n",
       "        text-align: right;\n",
       "    }\n",
       "</style>\n",
       "<table border=\"1\" class=\"dataframe\">\n",
       "  <thead>\n",
       "    <tr style=\"text-align: right;\">\n",
       "      <th></th>\n",
       "      <th>UserID</th>\n",
       "      <th>AvgSessionDuration</th>\n",
       "      <th>TotalSessions</th>\n",
       "      <th>DaysSinceSignup</th>\n",
       "      <th>DaysSinceLastSession</th>\n",
       "      <th>Churn</th>\n",
       "    </tr>\n",
       "  </thead>\n",
       "  <tbody>\n",
       "    <tr>\n",
       "      <th>0</th>\n",
       "      <td>1</td>\n",
       "      <td>25.0</td>\n",
       "      <td>2</td>\n",
       "      <td>30</td>\n",
       "      <td>42</td>\n",
       "      <td>1</td>\n",
       "    </tr>\n",
       "    <tr>\n",
       "      <th>1</th>\n",
       "      <td>2</td>\n",
       "      <td>25.0</td>\n",
       "      <td>2</td>\n",
       "      <td>21</td>\n",
       "      <td>42</td>\n",
       "      <td>1</td>\n",
       "    </tr>\n",
       "    <tr>\n",
       "      <th>2</th>\n",
       "      <td>3</td>\n",
       "      <td>35.0</td>\n",
       "      <td>2</td>\n",
       "      <td>47</td>\n",
       "      <td>42</td>\n",
       "      <td>1</td>\n",
       "    </tr>\n",
       "    <tr>\n",
       "      <th>3</th>\n",
       "      <td>1</td>\n",
       "      <td>25.0</td>\n",
       "      <td>2</td>\n",
       "      <td>31</td>\n",
       "      <td>42</td>\n",
       "      <td>1</td>\n",
       "    </tr>\n",
       "    <tr>\n",
       "      <th>4</th>\n",
       "      <td>2</td>\n",
       "      <td>25.0</td>\n",
       "      <td>2</td>\n",
       "      <td>22</td>\n",
       "      <td>42</td>\n",
       "      <td>1</td>\n",
       "    </tr>\n",
       "  </tbody>\n",
       "</table>\n",
       "</div>"
      ],
      "text/plain": [
       "   UserID  AvgSessionDuration  TotalSessions  DaysSinceSignup  \\\n",
       "0       1                25.0              2               30   \n",
       "1       2                25.0              2               21   \n",
       "2       3                35.0              2               47   \n",
       "3       1                25.0              2               31   \n",
       "4       2                25.0              2               22   \n",
       "\n",
       "   DaysSinceLastSession  Churn  \n",
       "0                    42      1  \n",
       "1                    42      1  \n",
       "2                    42      1  \n",
       "3                    42      1  \n",
       "4                    42      1  "
      ]
     },
     "execution_count": 22,
     "metadata": {},
     "output_type": "execute_result"
    }
   ],
   "source": [
    "user_data.head()"
   ]
  },
  {
   "cell_type": "markdown",
   "id": "b7e32086-adf7-4cfe-b2b1-27a9e66098f7",
   "metadata": {},
   "source": [
    "# Model Selection & Traning"
   ]
  },
  {
   "cell_type": "markdown",
   "id": "1344a03e-cfc6-46c9-917f-fc20ea7a3a05",
   "metadata": {},
   "source": [
    "###### We will split the data into training and testing sets and train a Random Forest classifier for churn prediction."
   ]
  },
  {
   "cell_type": "code",
   "execution_count": 28,
   "id": "117d05ff-d389-4018-aab0-a4e1315371ee",
   "metadata": {},
   "outputs": [],
   "source": [
    "X = user_data[['AvgSessionDuration', 'TotalSessions', 'DaysSinceSignup', 'DaysSinceLastSession']]\n",
    "y = user_data['Churn']"
   ]
  },
  {
   "cell_type": "code",
   "execution_count": 29,
   "id": "0ab880b8-9b24-404c-b2f7-1f856f73b61b",
   "metadata": {},
   "outputs": [],
   "source": [
    "X_train, X_test, y_train, y_test = train_test_split(X,y, test_size = 0.3, random_state = 42)"
   ]
  },
  {
   "cell_type": "code",
   "execution_count": 30,
   "id": "b842161b-78ce-4311-9a00-6fbba5946aa8",
   "metadata": {},
   "outputs": [
    {
     "data": {
      "text/html": [
       "<style>#sk-container-id-1 {color: black;background-color: white;}#sk-container-id-1 pre{padding: 0;}#sk-container-id-1 div.sk-toggleable {background-color: white;}#sk-container-id-1 label.sk-toggleable__label {cursor: pointer;display: block;width: 100%;margin-bottom: 0;padding: 0.3em;box-sizing: border-box;text-align: center;}#sk-container-id-1 label.sk-toggleable__label-arrow:before {content: \"▸\";float: left;margin-right: 0.25em;color: #696969;}#sk-container-id-1 label.sk-toggleable__label-arrow:hover:before {color: black;}#sk-container-id-1 div.sk-estimator:hover label.sk-toggleable__label-arrow:before {color: black;}#sk-container-id-1 div.sk-toggleable__content {max-height: 0;max-width: 0;overflow: hidden;text-align: left;background-color: #f0f8ff;}#sk-container-id-1 div.sk-toggleable__content pre {margin: 0.2em;color: black;border-radius: 0.25em;background-color: #f0f8ff;}#sk-container-id-1 input.sk-toggleable__control:checked~div.sk-toggleable__content {max-height: 200px;max-width: 100%;overflow: auto;}#sk-container-id-1 input.sk-toggleable__control:checked~label.sk-toggleable__label-arrow:before {content: \"▾\";}#sk-container-id-1 div.sk-estimator input.sk-toggleable__control:checked~label.sk-toggleable__label {background-color: #d4ebff;}#sk-container-id-1 div.sk-label input.sk-toggleable__control:checked~label.sk-toggleable__label {background-color: #d4ebff;}#sk-container-id-1 input.sk-hidden--visually {border: 0;clip: rect(1px 1px 1px 1px);clip: rect(1px, 1px, 1px, 1px);height: 1px;margin: -1px;overflow: hidden;padding: 0;position: absolute;width: 1px;}#sk-container-id-1 div.sk-estimator {font-family: monospace;background-color: #f0f8ff;border: 1px dotted black;border-radius: 0.25em;box-sizing: border-box;margin-bottom: 0.5em;}#sk-container-id-1 div.sk-estimator:hover {background-color: #d4ebff;}#sk-container-id-1 div.sk-parallel-item::after {content: \"\";width: 100%;border-bottom: 1px solid gray;flex-grow: 1;}#sk-container-id-1 div.sk-label:hover label.sk-toggleable__label {background-color: #d4ebff;}#sk-container-id-1 div.sk-serial::before {content: \"\";position: absolute;border-left: 1px solid gray;box-sizing: border-box;top: 0;bottom: 0;left: 50%;z-index: 0;}#sk-container-id-1 div.sk-serial {display: flex;flex-direction: column;align-items: center;background-color: white;padding-right: 0.2em;padding-left: 0.2em;position: relative;}#sk-container-id-1 div.sk-item {position: relative;z-index: 1;}#sk-container-id-1 div.sk-parallel {display: flex;align-items: stretch;justify-content: center;background-color: white;position: relative;}#sk-container-id-1 div.sk-item::before, #sk-container-id-1 div.sk-parallel-item::before {content: \"\";position: absolute;border-left: 1px solid gray;box-sizing: border-box;top: 0;bottom: 0;left: 50%;z-index: -1;}#sk-container-id-1 div.sk-parallel-item {display: flex;flex-direction: column;z-index: 1;position: relative;background-color: white;}#sk-container-id-1 div.sk-parallel-item:first-child::after {align-self: flex-end;width: 50%;}#sk-container-id-1 div.sk-parallel-item:last-child::after {align-self: flex-start;width: 50%;}#sk-container-id-1 div.sk-parallel-item:only-child::after {width: 0;}#sk-container-id-1 div.sk-dashed-wrapped {border: 1px dashed gray;margin: 0 0.4em 0.5em 0.4em;box-sizing: border-box;padding-bottom: 0.4em;background-color: white;}#sk-container-id-1 div.sk-label label {font-family: monospace;font-weight: bold;display: inline-block;line-height: 1.2em;}#sk-container-id-1 div.sk-label-container {text-align: center;}#sk-container-id-1 div.sk-container {/* jupyter's `normalize.less` sets `[hidden] { display: none; }` but bootstrap.min.css set `[hidden] { display: none !important; }` so we also need the `!important` here to be able to override the default hidden behavior on the sphinx rendered scikit-learn.org. See: https://github.com/scikit-learn/scikit-learn/issues/21755 */display: inline-block !important;position: relative;}#sk-container-id-1 div.sk-text-repr-fallback {display: none;}</style><div id=\"sk-container-id-1\" class=\"sk-top-container\"><div class=\"sk-text-repr-fallback\"><pre>RandomForestClassifier(random_state=42)</pre><b>In a Jupyter environment, please rerun this cell to show the HTML representation or trust the notebook. <br />On GitHub, the HTML representation is unable to render, please try loading this page with nbviewer.org.</b></div><div class=\"sk-container\" hidden><div class=\"sk-item\"><div class=\"sk-estimator sk-toggleable\"><input class=\"sk-toggleable__control sk-hidden--visually\" id=\"sk-estimator-id-1\" type=\"checkbox\" checked><label for=\"sk-estimator-id-1\" class=\"sk-toggleable__label sk-toggleable__label-arrow\">RandomForestClassifier</label><div class=\"sk-toggleable__content\"><pre>RandomForestClassifier(random_state=42)</pre></div></div></div></div></div>"
      ],
      "text/plain": [
       "RandomForestClassifier(random_state=42)"
      ]
     },
     "execution_count": 30,
     "metadata": {},
     "output_type": "execute_result"
    }
   ],
   "source": [
    "# Train a Random Forest classifier\n",
    "model = RandomForestClassifier(n_estimators = 100, random_state = 42)\n",
    "model.fit(X_train, y_train)"
   ]
  },
  {
   "cell_type": "markdown",
   "id": "9ae1d1e6-280f-4607-b4b5-1c26aa0ebc6e",
   "metadata": {},
   "source": [
    "# Model Evaluation"
   ]
  },
  {
   "cell_type": "markdown",
   "id": "d95a09ad-3724-405e-8730-9b5af2333f64",
   "metadata": {},
   "source": [
    "#### Let’s evaluate the model using classification metrics like accuracy, precision, recall, and F1-score."
   ]
  },
  {
   "cell_type": "code",
   "execution_count": 34,
   "id": "4dd77bbc-5314-4802-b0bf-0fb709124a2f",
   "metadata": {},
   "outputs": [
    {
     "name": "stdout",
     "output_type": "stream",
     "text": [
      "Classification Report:\n",
      "              precision    recall  f1-score   support\n",
      "\n",
      "           1       1.00      1.00      1.00         2\n",
      "\n",
      "    accuracy                           1.00         2\n",
      "   macro avg       1.00      1.00      1.00         2\n",
      "weighted avg       1.00      1.00      1.00         2\n",
      "\n",
      "Confusion Matrix:\n",
      "[[2]]\n"
     ]
    }
   ],
   "source": [
    "# Make predictions on the test set\n",
    "y_pred = model.predict(X_test)\n",
    "\n",
    "# Evaluation metrics\n",
    "print(\"Classification Report:\")\n",
    "print(classification_report(y_test, y_pred))\n",
    "\n",
    "print(\"Confusion Matrix:\")\n",
    "print(confusion_matrix(y_test, y_pred))\n"
   ]
  },
  {
   "cell_type": "markdown",
   "id": "a6d31037-ec1a-46da-bbd8-4d8c1243c86d",
   "metadata": {},
   "source": [
    "# Predictions"
   ]
  },
  {
   "cell_type": "markdown",
   "id": "9eecab50-a3bf-4eac-a7ff-a779baa4de1f",
   "metadata": {},
   "source": [
    "###### Now use the trained model to predict chrun for new users."
   ]
  },
  {
   "cell_type": "code",
   "execution_count": 35,
   "id": "d4dcbf10-2b3d-4daa-b85c-9e63ad424535",
   "metadata": {},
   "outputs": [],
   "source": [
    "new_user_data = pd.DataFrame({'AvgSessionDuration': [30, 10], 'TotalSessions': [5, 1], 'DaysSinceSignup': [20, 45], 'DaysSinceLastSession': [10, 60]})"
   ]
  },
  {
   "cell_type": "code",
   "execution_count": 36,
   "id": "b6a7cf3a-d75b-426f-82b0-668cee079a16",
   "metadata": {},
   "outputs": [
    {
     "name": "stdout",
     "output_type": "stream",
     "text": [
      "Churn Predictions for New Users: [1 1]\n"
     ]
    }
   ],
   "source": [
    "# predict churn for new users\n",
    "new_predictions = model.predict(new_user_data)\n",
    "print(\"Churn Predictions for New Users:\", new_predictions)"
   ]
  },
  {
   "cell_type": "code",
   "execution_count": null,
   "id": "5faaf85b-54b7-4d3d-8bb5-5904b9263f19",
   "metadata": {},
   "outputs": [],
   "source": []
  }
 ],
 "metadata": {
  "kernelspec": {
   "display_name": "Python 3 (ipykernel)",
   "language": "python",
   "name": "python3"
  },
  "language_info": {
   "codemirror_mode": {
    "name": "ipython",
    "version": 3
   },
   "file_extension": ".py",
   "mimetype": "text/x-python",
   "name": "python",
   "nbconvert_exporter": "python",
   "pygments_lexer": "ipython3",
   "version": "3.11.7"
  }
 },
 "nbformat": 4,
 "nbformat_minor": 5
}
